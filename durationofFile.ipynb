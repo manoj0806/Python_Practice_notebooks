{
 "cells": [
  {
   "cell_type": "markdown",
   "metadata": {},
   "source": [
    "# CODE TO READ MP4 FILES FROM FOLDER AND STORE THE DATA(NAME AND LENGTH OF VIDEO) TO DICTIONARY"
   ]
  },
  {
   "cell_type": "code",
   "execution_count": 68,
   "metadata": {},
   "outputs": [],
   "source": [
    "import os\n",
    "import time\n",
    "from moviepy.editor import VideoFileClip\n",
    "import pandas as pd"
   ]
  },
  {
   "cell_type": "code",
   "execution_count": 2,
   "metadata": {},
   "outputs": [],
   "source": [
    "arr = os.listdir('F:\\\\Azure\\\\Azure-data-factory\\\\realtime-scenarios')"
   ]
  },
  {
   "cell_type": "code",
   "execution_count": 3,
   "metadata": {},
   "outputs": [
    {
     "data": {
      "text/plain": [
       "['01.1. Handle Error Rows in Data Factory Mapping Data Flows.mp4',\n",
       " '02.2. Get File Names from Source Folder Dynamically in Azure Data Factory.mp4',\n",
       " '03.4. Delete old files from storage using Azure Data Factory.mp4',\n",
       " '04.3. Incrementally copy new and changed files based on Last Modified Date in Azure Data Factory.mp4',\n",
       " '05.5. Process fixed length text files by Azure Data Factory mapping data flows.mp4',\n",
       " '06.6. Log Pipeline Executions to SQL Table using Azure Data Factory.mp4',\n",
       " '07.7. Remove Duplicate Rows using Mapping Data Flows in Azure Data Factory.mp4',\n",
       " '08.8. Increment Keys from Existing Source Using Mapping Data Flow in Azure Data Factory.mp4',\n",
       " '09.9. Running Total using Mapping Data Flow in Azure Data Factory.mp4',\n",
       " '10.10. Log Pipeline Executions to file Using Mapping Data Flows in Azure Data Factory.mp4',\n",
       " '11.11. Slowly Changing Dimension(SCD) Type 1 Using Mapping Data Flow in Azure Data Factory.mp4',\n",
       " '12.12. Get Count of Files in Folder using Azure Data Factory.mp4',\n",
       " '13.13. Add additional columns during copy in Azure Data Factory.mp4',\n",
       " '14.14. Convert Array to String in Azure Data Factory.mp4',\n",
       " '15.15. Join() function to convert Array to String in Azure Data Factory.mp4',\n",
       " '16.16. Validate file schema before processing in Azure Data Factory.mp4',\n",
       " '17.17. Slowly Changing Dimension(SCD) Type 2 Using Mapping Data Flow in Azure Data Factory.mp4',\n",
       " '18.18. Copy multiple tables in bulk by using Azure Data Factory.mp4',\n",
       " '19.19. Execute Stored Procedure with Output Parameter in Azure Data Factory.mp4']"
      ]
     },
     "execution_count": 3,
     "metadata": {},
     "output_type": "execute_result"
    }
   ],
   "source": [
    "arr"
   ]
  },
  {
   "cell_type": "code",
   "execution_count": 4,
   "metadata": {},
   "outputs": [],
   "source": [
    "dir = {}"
   ]
  },
  {
   "cell_type": "code",
   "execution_count": 33,
   "metadata": {},
   "outputs": [
    {
     "data": {
      "text/plain": [
       "'C:\\\\Users\\\\91973'"
      ]
     },
     "execution_count": 33,
     "metadata": {},
     "output_type": "execute_result"
    }
   ],
   "source": [
    "os.getcwd()"
   ]
  },
  {
   "cell_type": "code",
   "execution_count": 34,
   "metadata": {},
   "outputs": [],
   "source": [
    "os.chdir('F:\\\\Azure\\\\Azure-data-factory\\\\realtime-scenarios')"
   ]
  },
  {
   "cell_type": "code",
   "execution_count": 40,
   "metadata": {},
   "outputs": [],
   "source": [
    "\n",
    "for i in arr:\n",
    "    clip = VideoFileClip(i)\n",
    "    dir[i]=clip.duration"
   ]
  },
  {
   "cell_type": "code",
   "execution_count": 47,
   "metadata": {},
   "outputs": [
    {
     "data": {
      "text/plain": [
       "{'i': 571.65,\n",
       " '01.1. Handle Error Rows in Data Factory Mapping Data Flows.mp4': 1907.87,\n",
       " '02.2. Get File Names from Source Folder Dynamically in Azure Data Factory.mp4': 1097.07,\n",
       " '03.4. Delete old files from storage using Azure Data Factory.mp4': 998.97,\n",
       " '04.3. Incrementally copy new and changed files based on Last Modified Date in Azure Data Factory.mp4': 539.89,\n",
       " '05.5. Process fixed length text files by Azure Data Factory mapping data flows.mp4': 833.18,\n",
       " '06.6. Log Pipeline Executions to SQL Table using Azure Data Factory.mp4': 655.41,\n",
       " '07.7. Remove Duplicate Rows using Mapping Data Flows in Azure Data Factory.mp4': 1012.02,\n",
       " '08.8. Increment Keys from Existing Source Using Mapping Data Flow in Azure Data Factory.mp4': 1573.22,\n",
       " '09.9. Running Total using Mapping Data Flow in Azure Data Factory.mp4': 750.28,\n",
       " '10.10. Log Pipeline Executions to file Using Mapping Data Flows in Azure Data Factory.mp4': 2008.27,\n",
       " '11.11. Slowly Changing Dimension(SCD) Type 1 Using Mapping Data Flow in Azure Data Factory.mp4': 722.44,\n",
       " '12.12. Get Count of Files in Folder using Azure Data Factory.mp4': 799.11,\n",
       " '13.13. Add additional columns during copy in Azure Data Factory.mp4': 691.47,\n",
       " '14.14. Convert Array to String in Azure Data Factory.mp4': 1135.69,\n",
       " '15.15. Join() function to convert Array to String in Azure Data Factory.mp4': 897.57,\n",
       " '16.16. Validate file schema before processing in Azure Data Factory.mp4': 795.82,\n",
       " '17.17. Slowly Changing Dimension(SCD) Type 2 Using Mapping Data Flow in Azure Data Factory.mp4': 2161.71,\n",
       " '18.18. Copy multiple tables in bulk by using Azure Data Factory.mp4': 1106.76,\n",
       " '19.19. Execute Stored Procedure with Output Parameter in Azure Data Factory.mp4': 571.65}"
      ]
     },
     "execution_count": 47,
     "metadata": {},
     "output_type": "execute_result"
    }
   ],
   "source": [
    "dir"
   ]
  },
  {
   "cell_type": "code",
   "execution_count": 61,
   "metadata": {},
   "outputs": [],
   "source": [
    "for i,j in dir.items():\n",
    "    sec = int(j)\n",
    "    ty_res = time.gmtime(sec)\n",
    "    res = time.strftime(\"%H:%M:%S\",ty_res)\n",
    "    dir[i] = res    "
   ]
  },
  {
   "cell_type": "code",
   "execution_count": 63,
   "metadata": {},
   "outputs": [
    {
     "data": {
      "text/plain": [
       "{'i': '00:09:31',\n",
       " '01.1. Handle Error Rows in Data Factory Mapping Data Flows.mp4': '00:31:47',\n",
       " '02.2. Get File Names from Source Folder Dynamically in Azure Data Factory.mp4': '00:18:17',\n",
       " '03.4. Delete old files from storage using Azure Data Factory.mp4': '00:16:38',\n",
       " '04.3. Incrementally copy new and changed files based on Last Modified Date in Azure Data Factory.mp4': '00:08:59',\n",
       " '05.5. Process fixed length text files by Azure Data Factory mapping data flows.mp4': '00:13:53',\n",
       " '06.6. Log Pipeline Executions to SQL Table using Azure Data Factory.mp4': '00:10:55',\n",
       " '07.7. Remove Duplicate Rows using Mapping Data Flows in Azure Data Factory.mp4': '00:16:52',\n",
       " '08.8. Increment Keys from Existing Source Using Mapping Data Flow in Azure Data Factory.mp4': '00:26:13',\n",
       " '09.9. Running Total using Mapping Data Flow in Azure Data Factory.mp4': '00:12:30',\n",
       " '10.10. Log Pipeline Executions to file Using Mapping Data Flows in Azure Data Factory.mp4': '00:33:28',\n",
       " '11.11. Slowly Changing Dimension(SCD) Type 1 Using Mapping Data Flow in Azure Data Factory.mp4': '00:12:02',\n",
       " '12.12. Get Count of Files in Folder using Azure Data Factory.mp4': '00:13:19',\n",
       " '13.13. Add additional columns during copy in Azure Data Factory.mp4': '00:11:31',\n",
       " '14.14. Convert Array to String in Azure Data Factory.mp4': '00:18:55',\n",
       " '15.15. Join() function to convert Array to String in Azure Data Factory.mp4': '00:14:57',\n",
       " '16.16. Validate file schema before processing in Azure Data Factory.mp4': '00:13:15',\n",
       " '17.17. Slowly Changing Dimension(SCD) Type 2 Using Mapping Data Flow in Azure Data Factory.mp4': '00:36:01',\n",
       " '18.18. Copy multiple tables in bulk by using Azure Data Factory.mp4': '00:18:26',\n",
       " '19.19. Execute Stored Procedure with Output Parameter in Azure Data Factory.mp4': '00:09:31'}"
      ]
     },
     "execution_count": 63,
     "metadata": {},
     "output_type": "execute_result"
    }
   ],
   "source": [
    "dir"
   ]
  },
  {
   "cell_type": "code",
   "execution_count": 66,
   "metadata": {},
   "outputs": [],
   "source": [
    "df =  pd.DataFrame(dir.items(), columns=['Name', 'Length'])"
   ]
  },
  {
   "cell_type": "code",
   "execution_count": 67,
   "metadata": {},
   "outputs": [
    {
     "data": {
      "text/html": [
       "<div>\n",
       "<style scoped>\n",
       "    .dataframe tbody tr th:only-of-type {\n",
       "        vertical-align: middle;\n",
       "    }\n",
       "\n",
       "    .dataframe tbody tr th {\n",
       "        vertical-align: top;\n",
       "    }\n",
       "\n",
       "    .dataframe thead th {\n",
       "        text-align: right;\n",
       "    }\n",
       "</style>\n",
       "<table border=\"1\" class=\"dataframe\">\n",
       "  <thead>\n",
       "    <tr style=\"text-align: right;\">\n",
       "      <th></th>\n",
       "      <th>Name</th>\n",
       "      <th>Length</th>\n",
       "    </tr>\n",
       "  </thead>\n",
       "  <tbody>\n",
       "    <tr>\n",
       "      <th>0</th>\n",
       "      <td>i</td>\n",
       "      <td>00:09:31</td>\n",
       "    </tr>\n",
       "    <tr>\n",
       "      <th>1</th>\n",
       "      <td>01.1. Handle Error Rows in Data Factory Mappin...</td>\n",
       "      <td>00:31:47</td>\n",
       "    </tr>\n",
       "    <tr>\n",
       "      <th>2</th>\n",
       "      <td>02.2. Get File Names from Source Folder Dynami...</td>\n",
       "      <td>00:18:17</td>\n",
       "    </tr>\n",
       "    <tr>\n",
       "      <th>3</th>\n",
       "      <td>03.4. Delete old files from storage using Azur...</td>\n",
       "      <td>00:16:38</td>\n",
       "    </tr>\n",
       "    <tr>\n",
       "      <th>4</th>\n",
       "      <td>04.3. Incrementally copy new and changed files...</td>\n",
       "      <td>00:08:59</td>\n",
       "    </tr>\n",
       "    <tr>\n",
       "      <th>5</th>\n",
       "      <td>05.5. Process fixed length text files by Azure...</td>\n",
       "      <td>00:13:53</td>\n",
       "    </tr>\n",
       "    <tr>\n",
       "      <th>6</th>\n",
       "      <td>06.6. Log Pipeline Executions to SQL Table usi...</td>\n",
       "      <td>00:10:55</td>\n",
       "    </tr>\n",
       "    <tr>\n",
       "      <th>7</th>\n",
       "      <td>07.7. Remove Duplicate Rows using Mapping Data...</td>\n",
       "      <td>00:16:52</td>\n",
       "    </tr>\n",
       "    <tr>\n",
       "      <th>8</th>\n",
       "      <td>08.8. Increment Keys from Existing Source Usin...</td>\n",
       "      <td>00:26:13</td>\n",
       "    </tr>\n",
       "    <tr>\n",
       "      <th>9</th>\n",
       "      <td>09.9. Running Total using Mapping Data Flow in...</td>\n",
       "      <td>00:12:30</td>\n",
       "    </tr>\n",
       "    <tr>\n",
       "      <th>10</th>\n",
       "      <td>10.10. Log Pipeline Executions to file Using M...</td>\n",
       "      <td>00:33:28</td>\n",
       "    </tr>\n",
       "    <tr>\n",
       "      <th>11</th>\n",
       "      <td>11.11. Slowly Changing Dimension(SCD) Type 1 U...</td>\n",
       "      <td>00:12:02</td>\n",
       "    </tr>\n",
       "    <tr>\n",
       "      <th>12</th>\n",
       "      <td>12.12. Get Count of Files in Folder using Azur...</td>\n",
       "      <td>00:13:19</td>\n",
       "    </tr>\n",
       "    <tr>\n",
       "      <th>13</th>\n",
       "      <td>13.13. Add additional columns during copy in A...</td>\n",
       "      <td>00:11:31</td>\n",
       "    </tr>\n",
       "    <tr>\n",
       "      <th>14</th>\n",
       "      <td>14.14. Convert Array to String in Azure Data F...</td>\n",
       "      <td>00:18:55</td>\n",
       "    </tr>\n",
       "    <tr>\n",
       "      <th>15</th>\n",
       "      <td>15.15. Join() function to convert Array to Str...</td>\n",
       "      <td>00:14:57</td>\n",
       "    </tr>\n",
       "    <tr>\n",
       "      <th>16</th>\n",
       "      <td>16.16. Validate file schema before processing ...</td>\n",
       "      <td>00:13:15</td>\n",
       "    </tr>\n",
       "    <tr>\n",
       "      <th>17</th>\n",
       "      <td>17.17. Slowly Changing Dimension(SCD) Type 2 U...</td>\n",
       "      <td>00:36:01</td>\n",
       "    </tr>\n",
       "    <tr>\n",
       "      <th>18</th>\n",
       "      <td>18.18. Copy multiple tables in bulk by using A...</td>\n",
       "      <td>00:18:26</td>\n",
       "    </tr>\n",
       "    <tr>\n",
       "      <th>19</th>\n",
       "      <td>19.19. Execute Stored Procedure with Output Pa...</td>\n",
       "      <td>00:09:31</td>\n",
       "    </tr>\n",
       "  </tbody>\n",
       "</table>\n",
       "</div>"
      ],
      "text/plain": [
       "                                                 Name    Length\n",
       "0                                                   i  00:09:31\n",
       "1   01.1. Handle Error Rows in Data Factory Mappin...  00:31:47\n",
       "2   02.2. Get File Names from Source Folder Dynami...  00:18:17\n",
       "3   03.4. Delete old files from storage using Azur...  00:16:38\n",
       "4   04.3. Incrementally copy new and changed files...  00:08:59\n",
       "5   05.5. Process fixed length text files by Azure...  00:13:53\n",
       "6   06.6. Log Pipeline Executions to SQL Table usi...  00:10:55\n",
       "7   07.7. Remove Duplicate Rows using Mapping Data...  00:16:52\n",
       "8   08.8. Increment Keys from Existing Source Usin...  00:26:13\n",
       "9   09.9. Running Total using Mapping Data Flow in...  00:12:30\n",
       "10  10.10. Log Pipeline Executions to file Using M...  00:33:28\n",
       "11  11.11. Slowly Changing Dimension(SCD) Type 1 U...  00:12:02\n",
       "12  12.12. Get Count of Files in Folder using Azur...  00:13:19\n",
       "13  13.13. Add additional columns during copy in A...  00:11:31\n",
       "14  14.14. Convert Array to String in Azure Data F...  00:18:55\n",
       "15  15.15. Join() function to convert Array to Str...  00:14:57\n",
       "16  16.16. Validate file schema before processing ...  00:13:15\n",
       "17  17.17. Slowly Changing Dimension(SCD) Type 2 U...  00:36:01\n",
       "18  18.18. Copy multiple tables in bulk by using A...  00:18:26\n",
       "19  19.19. Execute Stored Procedure with Output Pa...  00:09:31"
      ]
     },
     "execution_count": 67,
     "metadata": {},
     "output_type": "execute_result"
    }
   ],
   "source": [
    "df"
   ]
  },
  {
   "cell_type": "code",
   "execution_count": null,
   "metadata": {},
   "outputs": [],
   "source": []
  }
 ],
 "metadata": {
  "kernelspec": {
   "display_name": "Python 3.8.1 64-bit",
   "language": "python",
   "name": "python38164bit27b5204bfc5548cb84b8d9e63b29d14c"
  },
  "language_info": {
   "codemirror_mode": {
    "name": "ipython",
    "version": 3
   },
   "file_extension": ".py",
   "mimetype": "text/x-python",
   "name": "python",
   "nbconvert_exporter": "python",
   "pygments_lexer": "ipython3",
   "version": "3.8.1"
  }
 },
 "nbformat": 4,
 "nbformat_minor": 4
}
